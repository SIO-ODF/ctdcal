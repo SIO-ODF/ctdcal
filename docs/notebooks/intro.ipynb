{
 "cells": [
  {
   "cell_type": "markdown",
   "id": "engaged-indicator",
   "metadata": {
    "cell_marker": "\"\"\""
   },
   "source": [
    "# Introducing Jupyter Notebooks\n",
    "First, set up the environment:"
   ]
  },
  {
   "cell_type": "code",
   "execution_count": null,
   "id": "editorial-commander",
   "metadata": {},
   "outputs": [],
   "source": [
    "import matplotlib\n",
    "import matplotlib.pyplot as pl\n",
    "import numpy as np\n",
    "\n",
    "try:\n",
    "    from IPython import get_ipython\n",
    "\n",
    "    get_ipython().run_line_magic(\"matplotlib\", \"inline\")\n",
    "except AttributeError:\n",
    "    print(\"Magic function can only be used in IPython environment\")\n",
    "    matplotlib.use(\"Agg\")\n",
    "\n",
    "pl.rcParams[\"figure.figsize\"] = [15, 8]"
   ]
  },
  {
   "cell_type": "markdown",
   "id": "injured-recommendation",
   "metadata": {
    "cell_marker": "\"\"\"",
    "lines_to_next_cell": 1
   },
   "source": [
    "Then, define a function that creates a pretty graph:"
   ]
  },
  {
   "cell_type": "code",
   "execution_count": null,
   "id": "crucial-perfume",
   "metadata": {},
   "outputs": [],
   "source": [
    "def SineAndCosineWaves():\n",
    "    # Get a large number of X values for a nice smooth curve. Using Pi as np.sin requires radians...\n",
    "    x = np.linspace(0, 2 * np.pi, 180)\n",
    "    # Convert radians to degrees to make for a meaningful X axis (1 radian = 57.29* degrees)\n",
    "    xdeg = 57.29577951308232 * np.array(x)\n",
    "    # Calculate the sine of each value of X\n",
    "    y = np.sin(x)\n",
    "    # Calculate the cosine of each value of X\n",
    "    z = np.cos(x)\n",
    "    # Plot the sine wave in blue, using degrees rather than radians on the X axis\n",
    "    pl.plot(xdeg, y, color=\"blue\", label=\"Sine wave\")\n",
    "    # Plot the cos wave in green, using degrees rather than radians on the X axis\n",
    "    pl.plot(xdeg, z, color=\"green\", label=\"Cosine wave\")\n",
    "    pl.xlabel(\"Degrees\")\n",
    "    # More sensible X axis values\n",
    "    pl.xticks(np.arange(0, 361, 45))\n",
    "    pl.legend()\n",
    "    pl.show()"
   ]
  },
  {
   "cell_type": "markdown",
   "id": "joined-arrival",
   "metadata": {
    "cell_marker": "\"\"\""
   },
   "source": [
    "Finally, call that function to display the graph:"
   ]
  },
  {
   "cell_type": "code",
   "execution_count": null,
   "id": "vocational-beads",
   "metadata": {},
   "outputs": [],
   "source": [
    "SineAndCosineWaves()"
   ]
  }
 ],
 "metadata": {
  "jupytext": {
   "cell_markers": "\"\"\""
  },
  "kernelspec": {
   "display_name": "Python 3",
   "language": "python",
   "name": "python3"
  }
 },
 "nbformat": 4,
 "nbformat_minor": 5
}
